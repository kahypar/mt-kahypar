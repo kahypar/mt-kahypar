{
 "cells": [
  {
   "cell_type": "code",
   "execution_count": 3,
   "id": "ff526d0a",
   "metadata": {},
   "outputs": [],
   "source": [
    "import matplotlib.pyplot as plt\n",
    "import benchmark_visualization as bv\n",
    "import numpy as np\n",
    "import glob\n",
    "import os\n",
    "import json\n",
    "\n",
    "HOME_DIR = os.environ['HOME']\n",
    "\n",
    "SHORT_TIMELIMIT = 600\n",
    "LONG_TIMELIMIT = 3600\n",
    "\n",
    "runs = {}\n",
    "class BenchmarkRun:\n",
    "    HEADER = \"algorithm,graph,timeout,seed,k,epsilon,num_threads,imbalance,totalPartitionTime,objective,km1,cut,failed\"\n",
    "    \n",
    "    def __init__(self, content: str, timelimit: int = None):\n",
    "        self.data = {}\n",
    "        for i, key in enumerate(self.HEADER.split(',')):\n",
    "            value = content.split(',')[i].strip()\n",
    "            # Try to convert to int or float if possible\n",
    "            try:\n",
    "                if '.' in value:\n",
    "                    value = float(value)\n",
    "                else:\n",
    "                    value = int(value)\n",
    "            except ValueError:\n",
    "                pass\n",
    "            self.data[key] = value\n",
    "        self.data['timelimit'] = timelimit\n",
    "\n",
    "    def get(self, param):\n",
    "        return self.data[param]\n",
    "\n",
    "def parse_results_file(file_path: str):\n",
    "    results_array = []\n",
    "    timelimit = file_path.split('.')[-2]\n",
    "    with open(file_path, 'r', encoding='utf-8') as f:\n",
    "        for line in f:\n",
    "            results_array += [BenchmarkRun(content=line, timelimit=int(timelimit))]\n",
    "    return results_array\n",
    "\n",
    "def aggregate_runs(directory_path: str):\n",
    "    runs = {}\n",
    "    for file_path in glob.glob(directory_path + \"/*.results\"):\n",
    "        file_name = file_path.split('/')[-1]\n",
    "        instance_name = '.'.join(file_name.split('.')[:-2])\n",
    "        if instance_name not in runs:\n",
    "            runs[instance_name] = {\"short\": None, \"long\": None}\n",
    "\n",
    "        run_results = parse_results_file(file_path)\n",
    "        if len(run_results) > 1:\n",
    "            min_km1=min([run.get('km1') for run in run_results if run.get('failed') == 'no'])\n",
    "            runs[instance_name][\"short\"] = min_km1\n",
    "        elif run_results:\n",
    "            runs[instance_name][\"long\"] = run_results[0].get('km1')\n",
    "        else:\n",
    "            pass\n",
    "            #print(f\"Warning: No results in file {file_path}\")\n",
    "\n",
    "    return runs"
   ]
  },
  {
   "cell_type": "markdown",
   "id": "df045b47",
   "metadata": {},
   "source": [
    "### Various different results analysis ###"
   ]
  },
  {
   "cell_type": "code",
   "execution_count": null,
   "id": "a9d085d6",
   "metadata": {},
   "outputs": [
    {
     "name": "stdout",
     "output_type": "stream",
     "text": [
      "Percentage of instances where long run is better than short run: 87.18%\n",
      "diff_array: [-885, 84, -1568, -1115, -596, -5, 0, -137, -494, -286, -4, -51, 7, -3, -235, -440, -297, -162, -964, -1, -154, -20, -92, 0, -203, -918, -33, -2, -211, 15, -2117, -414, -619, -576, -93, -296, -344, -369, -35, -289, -752, 48, -4535, -126, -256, -152, -53, -517, -14, -516, -148, -31, -291, 5, -141, -764, 145, -561, -13, -1007, -116, -13, -1317, -583, -29, -610, -541, -2, -144, -58, 162, -277, -457, -87, -2, 87, -36, -1184]\n",
      "relative differences:  [('c-61.mtx.hgr.1.8.1', 0.02957373036916174), ('sat14_6s153.cnf.primal.hgr.1.8.1', 0.0210896309314587), ('gearbox.mtx.hgr.1.8.1', 0.015112037519541427), ('sme3Db.mtx.hgr.1.8.1', 0.012618296529968454), ('opt1.mtx.hgr.1.32.1', 0.010999456816947311), ('sat14_6s133.cnf.dual.hgr.1.8.1', 0.005335365853658537), ('sat14_atco_enc2_opt1_05_21.cnf.primal.hgr.1.8.1', 0.0040727667662231876), ('lhr14.mtx.hgr.1.32.1', 0.002086811352253756), ('hvdc1.mtx.hgr.1.8.1', 0.0), ('opt1.mtx.hgr.1.8.1', 0.0)]\n"
     ]
    }
   ],
   "source": [
    "RESULT_FILES_DIR = f\"{HOME_DIR}/Documents/2025-10-17_test_results/mt_kahypar_evo_results\"\n",
    "\n",
    "# Aggregate runs from result files\n",
    "runs = aggregate_runs(RESULT_FILES_DIR)\n",
    "\n",
    "diff_array = []\n",
    "for instance_name, results in runs.items():\n",
    "    short_km1 = results[\"short\"]\n",
    "    long_km1 = results[\"long\"]\n",
    "    if short_km1 is not None and long_km1 is not None:\n",
    "        diff = long_km1 - short_km1\n",
    "        diff_array.append(diff)\n",
    "\n",
    "# How often is long run better than short runs (percentage)\n",
    "if diff_array:\n",
    "    better_count = sum(1 for d in diff_array if d < 0)\n",
    "    percentage_better = (better_count / len(diff_array)) * 100\n",
    "    print(f\"Percentage of instances where long run is better than short runs: {percentage_better:.2f}%\")\n",
    "else:\n",
    "    print(\"No valid differences to analyze.\")\n",
    "\n",
    "print (\"diff_array:\", diff_array)\n",
    "\n",
    "# Analyze largest relative differences (in favor of long runs)\n",
    "relative_diffs = []\n",
    "for run, km1 in runs.items():\n",
    "    short_km1 = km1[\"short\"]\n",
    "    long_km1 = km1[\"long\"]\n",
    "    if short_km1 is not None and long_km1 is not None:\n",
    "        diff = long_km1 - short_km1\n",
    "        relative_diff = diff / short_km1\n",
    "        relative_diffs.append((run, relative_diff))\n",
    "relative_diffs.sort(key=lambda x: x[1], reverse=True)\n",
    "print(\"relative differences: \", relative_diffs[:10])\n",
    "\n"
   ]
  }
 ],
 "metadata": {
  "kernelspec": {
   "display_name": "Python 3",
   "language": "python",
   "name": "python3"
  },
  "language_info": {
   "codemirror_mode": {
    "name": "ipython",
    "version": 3
   },
   "file_extension": ".py",
   "mimetype": "text/x-python",
   "name": "python",
   "nbconvert_exporter": "python",
   "pygments_lexer": "ipython3",
   "version": "3.12.3"
  }
 },
 "nbformat": 4,
 "nbformat_minor": 5
}
